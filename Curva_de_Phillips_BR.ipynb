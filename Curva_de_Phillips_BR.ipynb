{
 "cells": [
  {
   "cell_type": "code",
   "execution_count": 1,
   "metadata": {},
   "outputs": [],
   "source": [
    "import pandas as pd"
   ]
  },
  {
   "cell_type": "code",
   "execution_count": 2,
   "metadata": {},
   "outputs": [],
   "source": [
    "ipca = pd.read_csv('results-20210713-203638.csv')"
   ]
  },
  {
   "cell_type": "markdown",
   "metadata": {},
   "source": [
    "### agrupando os dados do índice de preços por ano"
   ]
  },
  {
   "cell_type": "code",
   "execution_count": 3,
   "metadata": {},
   "outputs": [],
   "source": [
    "ipca_ano = ipca.groupby('ano').sum()"
   ]
  },
  {
   "cell_type": "markdown",
   "metadata": {},
   "source": [
    "### quero normalizar o somatório anual do índice de preços"
   ]
  },
  {
   "cell_type": "code",
   "execution_count": 4,
   "metadata": {},
   "outputs": [],
   "source": [
    "import numpy as np"
   ]
  },
  {
   "cell_type": "code",
   "execution_count": 5,
   "metadata": {},
   "outputs": [],
   "source": [
    "ipca_ano['normalized']=ipca_ano['indice']/7998.59"
   ]
  },
  {
   "cell_type": "code",
   "execution_count": 6,
   "metadata": {},
   "outputs": [],
   "source": [
    "ipca_ano=ipca_ano.drop(columns=['mes'])"
   ]
  },
  {
   "cell_type": "code",
   "execution_count": 8,
   "metadata": {
    "collapsed": true,
    "jupyter": {
     "outputs_hidden": true
    },
    "tags": []
   },
   "outputs": [
    {
     "data": {
      "text/html": [
       "<div>\n",
       "<style scoped>\n",
       "    .dataframe tbody tr th:only-of-type {\n",
       "        vertical-align: middle;\n",
       "    }\n",
       "\n",
       "    .dataframe tbody tr th {\n",
       "        vertical-align: top;\n",
       "    }\n",
       "\n",
       "    .dataframe thead th {\n",
       "        text-align: right;\n",
       "    }\n",
       "</style>\n",
       "<table border=\"1\" class=\"dataframe\">\n",
       "  <thead>\n",
       "    <tr style=\"text-align: right;\">\n",
       "      <th></th>\n",
       "      <th>indice</th>\n",
       "      <th>normalized</th>\n",
       "    </tr>\n",
       "    <tr>\n",
       "      <th>ano</th>\n",
       "      <th></th>\n",
       "      <th></th>\n",
       "    </tr>\n",
       "  </thead>\n",
       "  <tbody>\n",
       "    <tr>\n",
       "      <th>1994</th>\n",
       "      <td>7998.59</td>\n",
       "      <td>1.000000</td>\n",
       "    </tr>\n",
       "    <tr>\n",
       "      <th>1995</th>\n",
       "      <td>13353.08</td>\n",
       "      <td>1.669429</td>\n",
       "    </tr>\n",
       "    <tr>\n",
       "      <th>1996</th>\n",
       "      <td>15529.67</td>\n",
       "      <td>1.941551</td>\n",
       "    </tr>\n",
       "    <tr>\n",
       "      <th>1997</th>\n",
       "      <td>16619.46</td>\n",
       "      <td>2.077799</td>\n",
       "    </tr>\n",
       "    <tr>\n",
       "      <th>1998</th>\n",
       "      <td>17185.64</td>\n",
       "      <td>2.148584</td>\n",
       "    </tr>\n",
       "    <tr>\n",
       "      <th>1999</th>\n",
       "      <td>17968.36</td>\n",
       "      <td>2.246441</td>\n",
       "    </tr>\n",
       "    <tr>\n",
       "      <th>2000</th>\n",
       "      <td>19271.51</td>\n",
       "      <td>2.409363</td>\n",
       "    </tr>\n",
       "    <tr>\n",
       "      <th>2001</th>\n",
       "      <td>20582.83</td>\n",
       "      <td>2.573307</td>\n",
       "    </tr>\n",
       "    <tr>\n",
       "      <th>2002</th>\n",
       "      <td>22253.78</td>\n",
       "      <td>2.782213</td>\n",
       "    </tr>\n",
       "    <tr>\n",
       "      <th>2003</th>\n",
       "      <td>25583.29</td>\n",
       "      <td>3.198475</td>\n",
       "    </tr>\n",
       "    <tr>\n",
       "      <th>2004</th>\n",
       "      <td>27276.69</td>\n",
       "      <td>3.410187</td>\n",
       "    </tr>\n",
       "    <tr>\n",
       "      <th>2005</th>\n",
       "      <td>29172.10</td>\n",
       "      <td>3.647155</td>\n",
       "    </tr>\n",
       "    <tr>\n",
       "      <th>2006</th>\n",
       "      <td>30398.95</td>\n",
       "      <td>3.800539</td>\n",
       "    </tr>\n",
       "    <tr>\n",
       "      <th>2007</th>\n",
       "      <td>31479.40</td>\n",
       "      <td>3.935619</td>\n",
       "    </tr>\n",
       "    <tr>\n",
       "      <th>2008</th>\n",
       "      <td>33253.20</td>\n",
       "      <td>4.157383</td>\n",
       "    </tr>\n",
       "    <tr>\n",
       "      <th>2009</th>\n",
       "      <td>34868.67</td>\n",
       "      <td>4.359352</td>\n",
       "    </tr>\n",
       "    <tr>\n",
       "      <th>2010</th>\n",
       "      <td>36601.22</td>\n",
       "      <td>4.575959</td>\n",
       "    </tr>\n",
       "    <tr>\n",
       "      <th>2011</th>\n",
       "      <td>39020.99</td>\n",
       "      <td>4.878484</td>\n",
       "    </tr>\n",
       "    <tr>\n",
       "      <th>2012</th>\n",
       "      <td>41173.13</td>\n",
       "      <td>5.147549</td>\n",
       "    </tr>\n",
       "    <tr>\n",
       "      <th>2013</th>\n",
       "      <td>43716.00</td>\n",
       "      <td>5.465463</td>\n",
       "    </tr>\n",
       "    <tr>\n",
       "      <th>2014</th>\n",
       "      <td>46457.52</td>\n",
       "      <td>5.808214</td>\n",
       "    </tr>\n",
       "    <tr>\n",
       "      <th>2015</th>\n",
       "      <td>50583.44</td>\n",
       "      <td>6.324045</td>\n",
       "    </tr>\n",
       "    <tr>\n",
       "      <th>2016</th>\n",
       "      <td>55147.36</td>\n",
       "      <td>6.894635</td>\n",
       "    </tr>\n",
       "    <tr>\n",
       "      <th>2017</th>\n",
       "      <td>57152.61</td>\n",
       "      <td>7.145336</td>\n",
       "    </tr>\n",
       "    <tr>\n",
       "      <th>2018</th>\n",
       "      <td>59237.90</td>\n",
       "      <td>7.406043</td>\n",
       "    </tr>\n",
       "    <tr>\n",
       "      <th>2019</th>\n",
       "      <td>61415.44</td>\n",
       "      <td>7.678283</td>\n",
       "    </tr>\n",
       "    <tr>\n",
       "      <th>2020</th>\n",
       "      <td>63362.26</td>\n",
       "      <td>7.921679</td>\n",
       "    </tr>\n",
       "    <tr>\n",
       "      <th>2021</th>\n",
       "      <td>27697.49</td>\n",
       "      <td>3.462797</td>\n",
       "    </tr>\n",
       "  </tbody>\n",
       "</table>\n",
       "</div>"
      ],
      "text/plain": [
       "        indice  normalized\n",
       "ano                       \n",
       "1994   7998.59    1.000000\n",
       "1995  13353.08    1.669429\n",
       "1996  15529.67    1.941551\n",
       "1997  16619.46    2.077799\n",
       "1998  17185.64    2.148584\n",
       "1999  17968.36    2.246441\n",
       "2000  19271.51    2.409363\n",
       "2001  20582.83    2.573307\n",
       "2002  22253.78    2.782213\n",
       "2003  25583.29    3.198475\n",
       "2004  27276.69    3.410187\n",
       "2005  29172.10    3.647155\n",
       "2006  30398.95    3.800539\n",
       "2007  31479.40    3.935619\n",
       "2008  33253.20    4.157383\n",
       "2009  34868.67    4.359352\n",
       "2010  36601.22    4.575959\n",
       "2011  39020.99    4.878484\n",
       "2012  41173.13    5.147549\n",
       "2013  43716.00    5.465463\n",
       "2014  46457.52    5.808214\n",
       "2015  50583.44    6.324045\n",
       "2016  55147.36    6.894635\n",
       "2017  57152.61    7.145336\n",
       "2018  59237.90    7.406043\n",
       "2019  61415.44    7.678283\n",
       "2020  63362.26    7.921679\n",
       "2021  27697.49    3.462797"
      ]
     },
     "execution_count": 8,
     "metadata": {},
     "output_type": "execute_result"
    }
   ],
   "source": [
    "ipca_ano"
   ]
  },
  {
   "cell_type": "markdown",
   "metadata": {},
   "source": [
    "### carregando a série histórica de desemprego da PNADC\n",
    "\n",
    "Os microdados vêm relacionados por trimestre e ano. A série histórica se inicia em 2012; irei utilizar apenas dados referentes ao último trimestre de cada ano, já que estou utilizando o acumulado do índice de preços anual como referência."
   ]
  },
  {
   "cell_type": "code",
   "execution_count": 20,
   "metadata": {},
   "outputs": [],
   "source": [
    "pnad = pd.read_csv('PNADC.csv')"
   ]
  },
  {
   "cell_type": "code",
   "execution_count": 24,
   "metadata": {},
   "outputs": [],
   "source": [
    "pnad=pnad.rename(columns={'vd4001':'forca_trabalho','vd4002':'ocupacao',\t'vd4009':'condicao_na_ocupacao'})"
   ]
  },
  {
   "cell_type": "code",
   "execution_count": 26,
   "metadata": {},
   "outputs": [],
   "source": [
    "def selecao(ano):\n",
    "    return pnad[pnad['ano']==ano]"
   ]
  },
  {
   "cell_type": "code",
   "execution_count": 27,
   "metadata": {},
   "outputs": [],
   "source": [
    "#carregando a seleção ano a ano\n",
    "p_2012=selecao(2012)\n",
    "p_2013=selecao(2013)\n",
    "p_2014=selecao(2014)\n",
    "p_2015=selecao(2015)\n",
    "p_2016=selecao(2016)\n",
    "p_2017=selecao(2017)\n",
    "p_2018=selecao(2018)\n",
    "p_2019=selecao(2019)\n",
    "p_2020=selecao(2020)"
   ]
  },
  {
   "cell_type": "markdown",
   "metadata": {},
   "source": [
    "agora, preciso criar a taxa de desemprego anual: verifico a quantidade de pessoas na força de trabalho e utilizo a razão desempregados/força de trabalho"
   ]
  },
  {
   "cell_type": "code",
   "execution_count": 44,
   "metadata": {},
   "outputs": [],
   "source": [
    "def forcat(ano):\n",
    "    return ano[ano['forca_trabalho']==1]\n",
    "def desem(ano):\n",
    "    return ano[ano['ocupacao']==2]"
   ]
  },
  {
   "cell_type": "code",
   "execution_count": 46,
   "metadata": {},
   "outputs": [],
   "source": [
    "forca_de_trabalho=[]\n",
    "desempregados=[]\n",
    "ano=[]\n",
    "i=2012\n",
    "while i <2021:\n",
    "    ano.append(i)\n",
    "    i+=1"
   ]
  },
  {
   "cell_type": "code",
   "execution_count": 47,
   "metadata": {},
   "outputs": [],
   "source": [
    "forca_de_trabalho.append(len(forcat(p_2012)))\n",
    "forca_de_trabalho.append(len(forcat(p_2013)))\n",
    "forca_de_trabalho.append(len(forcat(p_2014)))\n",
    "forca_de_trabalho.append(len(forcat(p_2015)))\n",
    "forca_de_trabalho.append(len(forcat(p_2016)))\n",
    "forca_de_trabalho.append(len(forcat(p_2017)))\n",
    "forca_de_trabalho.append(len(forcat(p_2018)))\n",
    "forca_de_trabalho.append(len(forcat(p_2019)))\n",
    "forca_de_trabalho.append(len(forcat(p_2020)))\n",
    "desempregados.append(len(desem(p_2012)))\n",
    "desempregados.append(len(desem(p_2013)))\n",
    "desempregados.append(len(desem(p_2014)))\n",
    "desempregados.append(len(desem(p_2015)))\n",
    "desempregados.append(len(desem(p_2016)))\n",
    "desempregados.append(len(desem(p_2017)))\n",
    "desempregados.append(len(desem(p_2018)))\n",
    "desempregados.append(len(desem(p_2019)))\n",
    "desempregados.append(len(desem(p_2020)))"
   ]
  },
  {
   "cell_type": "code",
   "execution_count": 58,
   "metadata": {},
   "outputs": [],
   "source": [
    "desemp=pd.DataFrame({'forca_de_trabalho':forca_de_trabalho,'desemprego(pessoas)':desempregados,'ano':ano})\n",
    "desemp['taxa_desemp']=(desemp['desemprego(pessoas)']/desemp['forca_de_trabalho'])*100"
   ]
  },
  {
   "cell_type": "code",
   "execution_count": 61,
   "metadata": {},
   "outputs": [],
   "source": [
    "agregado=desemp.join(ipca_ano,on='ano')"
   ]
  },
  {
   "cell_type": "code",
   "execution_count": 62,
   "metadata": {
    "tags": []
   },
   "outputs": [
    {
     "data": {
      "text/html": [
       "<div>\n",
       "<style scoped>\n",
       "    .dataframe tbody tr th:only-of-type {\n",
       "        vertical-align: middle;\n",
       "    }\n",
       "\n",
       "    .dataframe tbody tr th {\n",
       "        vertical-align: top;\n",
       "    }\n",
       "\n",
       "    .dataframe thead th {\n",
       "        text-align: right;\n",
       "    }\n",
       "</style>\n",
       "<table border=\"1\" class=\"dataframe\">\n",
       "  <thead>\n",
       "    <tr style=\"text-align: right;\">\n",
       "      <th></th>\n",
       "      <th>forca_de_trabalho</th>\n",
       "      <th>desemprego(pessoas)</th>\n",
       "      <th>ano</th>\n",
       "      <th>taxa_desemp</th>\n",
       "      <th>indice</th>\n",
       "      <th>normalized</th>\n",
       "    </tr>\n",
       "  </thead>\n",
       "  <tbody>\n",
       "    <tr>\n",
       "      <th>0</th>\n",
       "      <td>260765</td>\n",
       "      <td>17234</td>\n",
       "      <td>2012</td>\n",
       "      <td>6.609016</td>\n",
       "      <td>41173.13</td>\n",
       "      <td>5.147549</td>\n",
       "    </tr>\n",
       "    <tr>\n",
       "      <th>1</th>\n",
       "      <td>266735</td>\n",
       "      <td>15675</td>\n",
       "      <td>2013</td>\n",
       "      <td>5.876619</td>\n",
       "      <td>43716.00</td>\n",
       "      <td>5.465463</td>\n",
       "    </tr>\n",
       "    <tr>\n",
       "      <th>2</th>\n",
       "      <td>270382</td>\n",
       "      <td>16260</td>\n",
       "      <td>2014</td>\n",
       "      <td>6.013714</td>\n",
       "      <td>46457.52</td>\n",
       "      <td>5.808214</td>\n",
       "    </tr>\n",
       "    <tr>\n",
       "      <th>3</th>\n",
       "      <td>266631</td>\n",
       "      <td>21727</td>\n",
       "      <td>2015</td>\n",
       "      <td>8.148715</td>\n",
       "      <td>50583.44</td>\n",
       "      <td>6.324045</td>\n",
       "    </tr>\n",
       "    <tr>\n",
       "      <th>4</th>\n",
       "      <td>268766</td>\n",
       "      <td>30555</td>\n",
       "      <td>2016</td>\n",
       "      <td>11.368625</td>\n",
       "      <td>55147.36</td>\n",
       "      <td>6.894635</td>\n",
       "    </tr>\n",
       "    <tr>\n",
       "      <th>5</th>\n",
       "      <td>266798</td>\n",
       "      <td>29576</td>\n",
       "      <td>2017</td>\n",
       "      <td>11.085540</td>\n",
       "      <td>57152.61</td>\n",
       "      <td>7.145336</td>\n",
       "    </tr>\n",
       "    <tr>\n",
       "      <th>6</th>\n",
       "      <td>263739</td>\n",
       "      <td>28967</td>\n",
       "      <td>2018</td>\n",
       "      <td>10.983207</td>\n",
       "      <td>59237.90</td>\n",
       "      <td>7.406043</td>\n",
       "    </tr>\n",
       "    <tr>\n",
       "      <th>7</th>\n",
       "      <td>258319</td>\n",
       "      <td>27034</td>\n",
       "      <td>2019</td>\n",
       "      <td>10.465355</td>\n",
       "      <td>61415.44</td>\n",
       "      <td>7.678283</td>\n",
       "    </tr>\n",
       "    <tr>\n",
       "      <th>8</th>\n",
       "      <td>150920</td>\n",
       "      <td>19504</td>\n",
       "      <td>2020</td>\n",
       "      <td>12.923403</td>\n",
       "      <td>63362.26</td>\n",
       "      <td>7.921679</td>\n",
       "    </tr>\n",
       "  </tbody>\n",
       "</table>\n",
       "</div>"
      ],
      "text/plain": [
       "   forca_de_trabalho  desemprego(pessoas)   ano  taxa_desemp    indice  \\\n",
       "0             260765                17234  2012     6.609016  41173.13   \n",
       "1             266735                15675  2013     5.876619  43716.00   \n",
       "2             270382                16260  2014     6.013714  46457.52   \n",
       "3             266631                21727  2015     8.148715  50583.44   \n",
       "4             268766                30555  2016    11.368625  55147.36   \n",
       "5             266798                29576  2017    11.085540  57152.61   \n",
       "6             263739                28967  2018    10.983207  59237.90   \n",
       "7             258319                27034  2019    10.465355  61415.44   \n",
       "8             150920                19504  2020    12.923403  63362.26   \n",
       "\n",
       "   normalized  \n",
       "0    5.147549  \n",
       "1    5.465463  \n",
       "2    5.808214  \n",
       "3    6.324045  \n",
       "4    6.894635  \n",
       "5    7.145336  \n",
       "6    7.406043  \n",
       "7    7.678283  \n",
       "8    7.921679  "
      ]
     },
     "execution_count": 62,
     "metadata": {},
     "output_type": "execute_result"
    }
   ],
   "source": [
    "agregado"
   ]
  },
  {
   "cell_type": "code",
   "execution_count": 71,
   "metadata": {},
   "outputs": [],
   "source": [
    "import matplotlib.pyplot as pltb\n",
    "from matplotlib.pyplot import figure"
   ]
  },
  {
   "cell_type": "code",
   "execution_count": 72,
   "metadata": {
    "tags": []
   },
   "outputs": [
    {
     "data": {
      "image/png": "[encoded data removed]",
      "text/plain": [
       "<Figure size 640x480 with 1 Axes>"
      ]
     },
     "metadata": {
      "needs_background": "light"
     },
     "output_type": "display_data"
    }
   ],
   "source": [
    "figure(figsize=(8, 6), dpi=80)\n",
    "plt.scatter(agregado['taxa_desemp'],agregado['normalized'])\n",
    "plt.xlabel('Taxa de Desemprego (%)')\n",
    "plt.ylabel('Nível de Preços')\n",
    "plt.grid()\n",
    "plt.title('Taxa de desemprego e Nível de preços (Brasil 2012-2020)')\n",
    "\n",
    "z = np.polyfit(agregado['taxa_desemp'], agregado['normalized'], 1)\n",
    "p = np.poly1d(z)\n",
    "plt.plot(agregado['taxa_desemp'],p(agregado['taxa_desemp']),\"r--\")\n",
    "plt.show()"
   ]
  }
 ],
 "metadata": {
  "kernelspec": {
   "display_name": "Python 3",
   "language": "python",
   "name": "python3"
  },
  "language_info": {
   "codemirror_mode": {
    "name": "ipython",
    "version": 3
   },
   "file_extension": ".py",
   "mimetype": "text/x-python",
   "name": "python",
   "nbconvert_exporter": "python",
   "pygments_lexer": "ipython3",
   "version": "3.8.5"
  }
 },
 "nbformat": 4,
 "nbformat_minor": 4
}
