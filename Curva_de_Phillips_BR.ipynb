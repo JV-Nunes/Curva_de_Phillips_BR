{
 "cells": [
  {
   "cell_type": "code",
   "execution_count": 1,
   "metadata": {},
   "outputs": [],
   "source": [
    "import pandas as pd"
   ]
  },
  {
   "cell_type": "code",
   "execution_count": 2,
   "metadata": {},
   "outputs": [],
   "source": [
    "ipca = pd.read_csv('results-20210713-203638.csv')"
   ]
  },
  {
   "cell_type": "markdown",
   "metadata": {},
   "source": [
    "### agrupando os dados do índice de preços por ano"
   ]
  },
  {
   "cell_type": "code",
   "execution_count": 3,
   "metadata": {},
   "outputs": [],
   "source": [
    "ipca_ano = ipca.groupby('ano').sum()"
   ]
  },
  {
   "cell_type": "markdown",
   "metadata": {},
   "source": [
    "### quero normalizar o somatório anual do índice de preços"
   ]
  },
  {
   "cell_type": "code",
   "execution_count": 4,
   "metadata": {},
   "outputs": [],
   "source": [
    "import numpy as np"
   ]
  },
  {
   "cell_type": "code",
   "execution_count": 5,
   "metadata": {},
   "outputs": [],
   "source": [
    "ipca_ano['normalized']=ipca_ano['indice']/7998.59"
   ]
  },
  {
   "cell_type": "code",
   "execution_count": 6,
   "metadata": {},
   "outputs": [],
   "source": [
    "ipca_ano=ipca_ano.drop(columns=['mes'])"
   ]
  },
  {
   "cell_type": "code",
   "execution_count": 7,
   "metadata": {
    "tags": []
   },
   "outputs": [
    {
     "data": {
      "text/html": [
       "<div>\n",
       "<style scoped>\n",
       "    .dataframe tbody tr th:only-of-type {\n",
       "        vertical-align: middle;\n",
       "    }\n",
       "\n",
       "    .dataframe tbody tr th {\n",
       "        vertical-align: top;\n",
       "    }\n",
       "\n",
       "    .dataframe thead th {\n",
       "        text-align: right;\n",
       "    }\n",
       "</style>\n",
       "<table border=\"1\" class=\"dataframe\">\n",
       "  <thead>\n",
       "    <tr style=\"text-align: right;\">\n",
       "      <th></th>\n",
       "      <th>indice</th>\n",
       "      <th>normalized</th>\n",
       "    </tr>\n",
       "    <tr>\n",
       "      <th>ano</th>\n",
       "      <th></th>\n",
       "      <th></th>\n",
       "    </tr>\n",
       "  </thead>\n",
       "  <tbody>\n",
       "    <tr>\n",
       "      <th>1994</th>\n",
       "      <td>7998.59</td>\n",
       "      <td>1.000000</td>\n",
       "    </tr>\n",
       "    <tr>\n",
       "      <th>1995</th>\n",
       "      <td>13353.08</td>\n",
       "      <td>1.669429</td>\n",
       "    </tr>\n",
       "    <tr>\n",
       "      <th>1996</th>\n",
       "      <td>15529.67</td>\n",
       "      <td>1.941551</td>\n",
       "    </tr>\n",
       "    <tr>\n",
       "      <th>1997</th>\n",
       "      <td>16619.46</td>\n",
       "      <td>2.077799</td>\n",
       "    </tr>\n",
       "    <tr>\n",
       "      <th>1998</th>\n",
       "      <td>17185.64</td>\n",
       "      <td>2.148584</td>\n",
       "    </tr>\n",
       "  </tbody>\n",
       "</table>\n",
       "</div>"
      ],
      "text/plain": [
       "        indice  normalized\n",
       "ano                       \n",
       "1994   7998.59    1.000000\n",
       "1995  13353.08    1.669429\n",
       "1996  15529.67    1.941551\n",
       "1997  16619.46    2.077799\n",
       "1998  17185.64    2.148584"
      ]
     },
     "execution_count": 7,
     "metadata": {},
     "output_type": "execute_result"
    }
   ],
   "source": [
    "ipca_ano.head()"
   ]
  },
  {
   "cell_type": "markdown",
   "metadata": {},
   "source": [
    "### carregando a série histórica de desemprego da PNADC\n",
    "\n",
    "Os microdados vêm relacionados por trimestre e ano. A série histórica se inicia em 2012; irei utilizar apenas dados referentes ao último trimestre de cada ano, já que estou utilizando o acumulado do índice de preços anual como referência."
   ]
  },
  {
   "cell_type": "code",
   "execution_count": 8,
   "metadata": {},
   "outputs": [],
   "source": [
    "pnad = pd.read_csv('PNADC.csv')"
   ]
  },
  {
   "cell_type": "code",
   "execution_count": 9,
   "metadata": {},
   "outputs": [],
   "source": [
    "pnad=pnad.rename(columns={'vd4001':'forca_trabalho','vd4002':'ocupacao','vd4009':'condicao_na_ocupacao'})"
   ]
  },
  {
   "cell_type": "code",
   "execution_count": 10,
   "metadata": {},
   "outputs": [],
   "source": [
    "def selecao(ano):\n",
    "    return pnad[pnad['ano']==ano]\n",
    "def forcat(ano):\n",
    "    return ano[ano['forca_trabalho']==1]\n",
    "def desem(ano):\n",
    "    return ano[ano['ocupacao']==2]"
   ]
  },
  {
   "cell_type": "code",
   "execution_count": 11,
   "metadata": {},
   "outputs": [],
   "source": [
    "forca_de_trabalho=[]\n",
    "desempregados=[]\n",
    "ano=[]\n",
    "for i in range(2012,2020+1):\n",
    "    df_ano_selecionado=selecao(i)\n",
    "    forca_de_trabalho.append(len(forcat(df_ano_selecionado)))\n",
    "    desempregados.append(len(desem(df_ano_selecionado)))\n",
    "    ano.append(i)"
   ]
  },
  {
   "cell_type": "markdown",
   "metadata": {},
   "source": [
    "agora, preciso criar a taxa de desemprego anual: verifico a quantidade de pessoas na força de trabalho e utilizo a razão desempregados/força de trabalho"
   ]
  },
  {
   "cell_type": "code",
   "execution_count": 12,
   "metadata": {},
   "outputs": [],
   "source": [
    "desemp=pd.DataFrame({'forca_de_trabalho':forca_de_trabalho,'desemprego(pessoas)':desempregados,'ano':ano})\n",
    "desemp['taxa_desemp']=(desemp['desemprego(pessoas)']/desemp['forca_de_trabalho'])*100"
   ]
  },
  {
   "cell_type": "code",
   "execution_count": 13,
   "metadata": {},
   "outputs": [],
   "source": [
    "agregado=desemp.join(ipca_ano,on='ano')"
   ]
  },
  {
   "cell_type": "code",
   "execution_count": 15,
   "metadata": {
    "tags": []
   },
   "outputs": [
    {
     "data": {
      "text/html": [
       "<div>\n",
       "<style scoped>\n",
       "    .dataframe tbody tr th:only-of-type {\n",
       "        vertical-align: middle;\n",
       "    }\n",
       "\n",
       "    .dataframe tbody tr th {\n",
       "        vertical-align: top;\n",
       "    }\n",
       "\n",
       "    .dataframe thead th {\n",
       "        text-align: right;\n",
       "    }\n",
       "</style>\n",
       "<table border=\"1\" class=\"dataframe\">\n",
       "  <thead>\n",
       "    <tr style=\"text-align: right;\">\n",
       "      <th></th>\n",
       "      <th>forca_de_trabalho</th>\n",
       "      <th>desemprego(pessoas)</th>\n",
       "      <th>ano</th>\n",
       "      <th>taxa_desemp</th>\n",
       "      <th>indice</th>\n",
       "      <th>normalized</th>\n",
       "    </tr>\n",
       "  </thead>\n",
       "  <tbody>\n",
       "    <tr>\n",
       "      <th>0</th>\n",
       "      <td>260765</td>\n",
       "      <td>17234</td>\n",
       "      <td>2012</td>\n",
       "      <td>6.609016</td>\n",
       "      <td>41173.13</td>\n",
       "      <td>5.147549</td>\n",
       "    </tr>\n",
       "    <tr>\n",
       "      <th>1</th>\n",
       "      <td>266735</td>\n",
       "      <td>15675</td>\n",
       "      <td>2013</td>\n",
       "      <td>5.876619</td>\n",
       "      <td>43716.00</td>\n",
       "      <td>5.465463</td>\n",
       "    </tr>\n",
       "    <tr>\n",
       "      <th>2</th>\n",
       "      <td>270382</td>\n",
       "      <td>16260</td>\n",
       "      <td>2014</td>\n",
       "      <td>6.013714</td>\n",
       "      <td>46457.52</td>\n",
       "      <td>5.808214</td>\n",
       "    </tr>\n",
       "    <tr>\n",
       "      <th>3</th>\n",
       "      <td>266631</td>\n",
       "      <td>21727</td>\n",
       "      <td>2015</td>\n",
       "      <td>8.148715</td>\n",
       "      <td>50583.44</td>\n",
       "      <td>6.324045</td>\n",
       "    </tr>\n",
       "    <tr>\n",
       "      <th>4</th>\n",
       "      <td>268766</td>\n",
       "      <td>30555</td>\n",
       "      <td>2016</td>\n",
       "      <td>11.368625</td>\n",
       "      <td>55147.36</td>\n",
       "      <td>6.894635</td>\n",
       "    </tr>\n",
       "  </tbody>\n",
       "</table>\n",
       "</div>"
      ],
      "text/plain": [
       "   forca_de_trabalho  desemprego(pessoas)   ano  taxa_desemp    indice  \\\n",
       "0             260765                17234  2012     6.609016  41173.13   \n",
       "1             266735                15675  2013     5.876619  43716.00   \n",
       "2             270382                16260  2014     6.013714  46457.52   \n",
       "3             266631                21727  2015     8.148715  50583.44   \n",
       "4             268766                30555  2016    11.368625  55147.36   \n",
       "\n",
       "   normalized  \n",
       "0    5.147549  \n",
       "1    5.465463  \n",
       "2    5.808214  \n",
       "3    6.324045  \n",
       "4    6.894635  "
      ]
     },
     "execution_count": 15,
     "metadata": {},
     "output_type": "execute_result"
    }
   ],
   "source": [
    "agregado.head()"
   ]
  },
  {
   "cell_type": "code",
   "execution_count": 23,
   "metadata": {},
   "outputs": [],
   "source": [
    "import matplotlib.pyplot as plt\n",
    "from matplotlib.pyplot import figure"
   ]
  },
  {
   "cell_type": "code",
   "execution_count": 24,
   "metadata": {
    "tags": []
   },
   "outputs": [
    {
     "data": {
      "image/png": "[encoded data removed]",
      "text/plain": [
       "<Figure size 640x480 with 1 Axes>"
      ]
     },
     "metadata": {
      "needs_background": "light"
     },
     "output_type": "display_data"
    }
   ],
   "source": [
    "figure(figsize=(8, 6), dpi=80)\n",
    "plt.scatter(agregado['taxa_desemp'],agregado['normalized'])\n",
    "plt.xlabel('Taxa de Desemprego (%)')\n",
    "plt.ylabel('Nível de Preços')\n",
    "plt.grid()\n",
    "plt.title('Curva de Phillips original (Brasil 2012-2020)')\n",
    "\n",
    "z = np.polyfit(agregado['taxa_desemp'], agregado['normalized'], 1)\n",
    "p = np.poly1d(z)\n",
    "plt.plot(agregado['taxa_desemp'],p(agregado['taxa_desemp']),\"r--\")\n",
    "plt.show()"
   ]
  },
  {
   "cell_type": "markdown",
   "metadata": {},
   "source": [
    "### Agora, criando a curva de Phillips ampliada às expectativas"
   ]
  },
  {
   "cell_type": "code",
   "execution_count": 25,
   "metadata": {},
   "outputs": [],
   "source": [
    "variacao=[]\n",
    "for i in range(1,len(ipca_ano.iloc[:,1])): \n",
    "    variacao.append((ipca_ano.iloc[i,1]-ipca_ano.iloc[i-1,1])/(ipca_ano.iloc[i-1,1]))"
   ]
  },
  {
   "cell_type": "code",
   "execution_count": 26,
   "metadata": {},
   "outputs": [],
   "source": [
    "variacao.insert(0,0)"
   ]
  },
  {
   "cell_type": "code",
   "execution_count": 27,
   "metadata": {},
   "outputs": [
    {
     "data": {
      "text/plain": [
       "[0,\n",
       " 0.6694292369030042,\n",
       " 0.16300284278982846,\n",
       " 0.07017470429184898,\n",
       " 0.03406729219842288]"
      ]
     },
     "execution_count": 27,
     "metadata": {},
     "output_type": "execute_result"
    }
   ],
   "source": [
    "variacao[:5] #apenas mostrando algumas linhas da lista"
   ]
  },
  {
   "cell_type": "code",
   "execution_count": 28,
   "metadata": {
    "tags": []
   },
   "outputs": [],
   "source": [
    "ipca_ano['var%']=variacao"
   ]
  },
  {
   "cell_type": "code",
   "execution_count": 30,
   "metadata": {},
   "outputs": [],
   "source": [
    "agregad2=desemp.join(ipca_ano,on='ano')"
   ]
  },
  {
   "cell_type": "code",
   "execution_count": 31,
   "metadata": {},
   "outputs": [
    {
     "data": {
      "text/html": [
       "<div>\n",
       "<style scoped>\n",
       "    .dataframe tbody tr th:only-of-type {\n",
       "        vertical-align: middle;\n",
       "    }\n",
       "\n",
       "    .dataframe tbody tr th {\n",
       "        vertical-align: top;\n",
       "    }\n",
       "\n",
       "    .dataframe thead th {\n",
       "        text-align: right;\n",
       "    }\n",
       "</style>\n",
       "<table border=\"1\" class=\"dataframe\">\n",
       "  <thead>\n",
       "    <tr style=\"text-align: right;\">\n",
       "      <th></th>\n",
       "      <th>forca_de_trabalho</th>\n",
       "      <th>desemprego(pessoas)</th>\n",
       "      <th>ano</th>\n",
       "      <th>taxa_desemp</th>\n",
       "      <th>indice</th>\n",
       "      <th>normalized</th>\n",
       "      <th>var%</th>\n",
       "    </tr>\n",
       "  </thead>\n",
       "  <tbody>\n",
       "    <tr>\n",
       "      <th>0</th>\n",
       "      <td>260765</td>\n",
       "      <td>17234</td>\n",
       "      <td>2012</td>\n",
       "      <td>6.609016</td>\n",
       "      <td>41173.13</td>\n",
       "      <td>5.147549</td>\n",
       "      <td>0.055153</td>\n",
       "    </tr>\n",
       "    <tr>\n",
       "      <th>1</th>\n",
       "      <td>266735</td>\n",
       "      <td>15675</td>\n",
       "      <td>2013</td>\n",
       "      <td>5.876619</td>\n",
       "      <td>43716.00</td>\n",
       "      <td>5.465463</td>\n",
       "      <td>0.061760</td>\n",
       "    </tr>\n",
       "    <tr>\n",
       "      <th>2</th>\n",
       "      <td>270382</td>\n",
       "      <td>16260</td>\n",
       "      <td>2014</td>\n",
       "      <td>6.013714</td>\n",
       "      <td>46457.52</td>\n",
       "      <td>5.808214</td>\n",
       "      <td>0.062712</td>\n",
       "    </tr>\n",
       "    <tr>\n",
       "      <th>3</th>\n",
       "      <td>266631</td>\n",
       "      <td>21727</td>\n",
       "      <td>2015</td>\n",
       "      <td>8.148715</td>\n",
       "      <td>50583.44</td>\n",
       "      <td>6.324045</td>\n",
       "      <td>0.088811</td>\n",
       "    </tr>\n",
       "    <tr>\n",
       "      <th>4</th>\n",
       "      <td>268766</td>\n",
       "      <td>30555</td>\n",
       "      <td>2016</td>\n",
       "      <td>11.368625</td>\n",
       "      <td>55147.36</td>\n",
       "      <td>6.894635</td>\n",
       "      <td>0.090226</td>\n",
       "    </tr>\n",
       "  </tbody>\n",
       "</table>\n",
       "</div>"
      ],
      "text/plain": [
       "   forca_de_trabalho  desemprego(pessoas)   ano  taxa_desemp    indice  \\\n",
       "0             260765                17234  2012     6.609016  41173.13   \n",
       "1             266735                15675  2013     5.876619  43716.00   \n",
       "2             270382                16260  2014     6.013714  46457.52   \n",
       "3             266631                21727  2015     8.148715  50583.44   \n",
       "4             268766                30555  2016    11.368625  55147.36   \n",
       "\n",
       "   normalized      var%  \n",
       "0    5.147549  0.055153  \n",
       "1    5.465463  0.061760  \n",
       "2    5.808214  0.062712  \n",
       "3    6.324045  0.088811  \n",
       "4    6.894635  0.090226  "
      ]
     },
     "execution_count": 31,
     "metadata": {},
     "output_type": "execute_result"
    }
   ],
   "source": [
    "agregad2.head()"
   ]
  },
  {
   "cell_type": "code",
   "execution_count": 32,
   "metadata": {},
   "outputs": [
    {
     "data": {
      "image/png": "[encoded data removed]",
      "text/plain": [
       "<Figure size 640x480 with 1 Axes>"
      ]
     },
     "metadata": {
      "needs_background": "light"
     },
     "output_type": "display_data"
    }
   ],
   "source": [
    "figure(figsize=(8, 6), dpi=80)\n",
    "plt.scatter(agregad2['taxa_desemp'],agregad2['var%'])\n",
    "plt.xlabel('Taxa de Desemprego (%)')\n",
    "plt.ylabel('Variação Nível de Preços')\n",
    "plt.grid()\n",
    "plt.title('Curva de Phillips ampliada pelas expectativas (Brasil 2012-2020)')\n",
    "\n",
    "z = np.polyfit(agregad2['taxa_desemp'], agregad2['var%'], 1)\n",
    "p = np.poly1d(z)\n",
    "plt.plot(agregad2['taxa_desemp'],p(agregad2['taxa_desemp']),\"r--\")\n",
    "plt.show()"
   ]
  },
  {
   "cell_type": "code",
   "execution_count": null,
   "metadata": {},
   "outputs": [],
   "source": []
  }
 ],
 "metadata": {
  "kernelspec": {
   "display_name": "Python 3",
   "language": "python",
   "name": "python3"
  },
  "language_info": {
   "codemirror_mode": {
    "name": "ipython",
    "version": 3
   },
   "file_extension": ".py",
   "mimetype": "text/x-python",
   "name": "python",
   "nbconvert_exporter": "python",
   "pygments_lexer": "ipython3",
   "version": "3.8.5"
  }
 },
 "nbformat": 4,
 "nbformat_minor": 4
}
